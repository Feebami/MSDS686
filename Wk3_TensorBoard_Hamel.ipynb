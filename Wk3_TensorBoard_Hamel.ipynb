{
  "cells": [
    {
      "attachments": {},
      "cell_type": "markdown",
      "metadata": {
        "colab_type": "text",
        "id": "view-in-github"
      },
      "source": [
        "<a href=\"https://colab.research.google.com/github/Mrsnellek/MSDS_686_22F8W2/blob/23S8W1/MSDS%20686/Week_3/Optional_Reuters_Regularization_and_Dropout_TensorBoard_Extra_Work.ipynb\" target=\"_parent\"><img src=\"https://colab.research.google.com/assets/colab-badge.svg\" alt=\"Open In Colab\"/></a>"
      ]
    },
    {
      "cell_type": "markdown",
      "metadata": {
        "id": "hz9jeqeH82dC"
      },
      "source": [
        "# Reuters Regularization and Dropout Using TensorBoard\n",
        "## Adapted from Deep Learning with Python by Francois Chollet\n",
        "#### Use the Keras Reuters dataset to classify news wires into 46 different categories.  Use regularization and stopearly call backs to improve your neural network."
      ]
    },
    {
      "cell_type": "code",
      "execution_count": 60,
      "metadata": {},
      "outputs": [
        {
          "name": "stderr",
          "output_type": "stream",
          "text": [
            "/tmp/ipykernel_58918/1226147920.py:1: DeprecationWarning: Importing display from IPython.core.display is deprecated since IPython 7.14, please import from IPython.display\n",
            "  from IPython.core.display import display, HTML\n"
          ]
        },
        {
          "data": {
            "text/html": [
              "<style>.container { width:95% !important; }</style>"
            ],
            "text/plain": [
              "<IPython.core.display.HTML object>"
            ]
          },
          "metadata": {},
          "output_type": "display_data"
        }
      ],
      "source": [
        "from IPython.core.display import display, HTML\n",
        "display(HTML(\"<style>.container { width:95% !important; }</style>\"))"
      ]
    },
    {
      "cell_type": "code",
      "execution_count": 40,
      "metadata": {
        "id": "XmsqKzOw82dl"
      },
      "outputs": [],
      "source": [
        "# Import all the necessary libraries and set the np and tf seed\n",
        "import time\n",
        "\n",
        "import keras_tuner as kt\n",
        "import matplotlib.pyplot as plt\n",
        "import numpy as np\n",
        "import tensorflow as tf"
      ]
    },
    {
      "cell_type": "code",
      "execution_count": 41,
      "metadata": {
        "id": "LOawNEAD82du"
      },
      "outputs": [
        {
          "data": {
            "text/plain": [
              "((8982,), (2246,))"
            ]
          },
          "execution_count": 41,
          "metadata": {},
          "output_type": "execute_result"
        }
      ],
      "source": [
        "# Import the Reuters data set from the Keras library. https://keras.io/datasets/\n",
        "(train_data, train_labels), (test_data, test_labels) = tf.keras.datasets.reuters.load_data(num_words=20000, skip_top=20)\n",
        "train_data.shape, test_data.shape"
      ]
    },
    {
      "cell_type": "code",
      "execution_count": 42,
      "metadata": {
        "id": "Qf6sV0l-82d2"
      },
      "outputs": [],
      "source": [
        "# Define a function to vectorize the data.\n",
        "def vectorize_sequences(sequences, dimension=10000):\n",
        "    results = np.zeros((len(sequences), dimension))\n",
        "    for i, sequence in enumerate(sequences):\n",
        "        results[i, sequence] = 1.\n",
        "    return results"
      ]
    },
    {
      "cell_type": "code",
      "execution_count": 43,
      "metadata": {},
      "outputs": [
        {
          "name": "stdout",
          "output_type": "stream",
          "text": [
            "Trial 01 summary\n",
            "Hyperparameters:\n",
            "n_hidden: 1\n",
            "n_units: 256\n",
            "learning_rate: 0.005957170974089395\n",
            "dropout: 0.2606644755079035\n",
            "Score: 0.8450000286102295\n"
          ]
        }
      ],
      "source": [
        "best_trial = tuner.oracle.get_best_trials()[0]\n",
        "best_trial.summary()"
      ]
    },
    {
      "cell_type": "code",
      "execution_count": 44,
      "metadata": {},
      "outputs": [
        {
          "data": {
            "text/plain": [
              "1"
            ]
          },
          "execution_count": 44,
          "metadata": {},
          "output_type": "execute_result"
        }
      ],
      "source": [
        "best_trial.best_step"
      ]
    },
    {
      "cell_type": "code",
      "execution_count": 45,
      "metadata": {},
      "outputs": [
        {
          "name": "stdout",
          "output_type": "stream",
          "text": [
            "\u001b[1m9/9\u001b[0m \u001b[32m━━━━━━━━━━━━━━━━━━━━\u001b[0m\u001b[37m\u001b[0m \u001b[1m1s\u001b[0m 50ms/step - accuracy: 0.8112 - loss: 0.9041\n",
            "Test Loss: 0.9328\n",
            "Test Accuracy: 0.8081\n"
          ]
        }
      ],
      "source": [
        "best_model = tuner.get_best_models()[0]\n",
        "loss, accuracy = best_model.evaluate(test_ds)\n",
        "print(f'Test Loss: {loss:.4f}')\n",
        "print(f'Test Accuracy: {accuracy:.4f}')"
      ]
    },
    {
      "cell_type": "code",
      "execution_count": 46,
      "metadata": {
        "id": "kt1tccdA82eA"
      },
      "outputs": [
        {
          "data": {
            "text/plain": [
              "((8982, 20000), (2246, 20000))"
            ]
          },
          "execution_count": 46,
          "metadata": {},
          "output_type": "execute_result"
        }
      ],
      "source": [
        "# Vectorize the train_data and test_data\n",
        "train_data = vectorize_sequences(train_data, 20000)\n",
        "test_data = vectorize_sequences(test_data, 20000)\n",
        "train_data.shape, test_data.shape"
      ]
    },
    {
      "cell_type": "code",
      "execution_count": 47,
      "metadata": {
        "id": "FE1dXymq82eN"
      },
      "outputs": [],
      "source": [
        "# Encode the labes to categorical. "
      ]
    },
    {
      "cell_type": "code",
      "execution_count": 48,
      "metadata": {
        "id": "laGfvA9P82eX"
      },
      "outputs": [],
      "source": [
        "# Split the data into training and validation\n",
        "BATCH_SIZE = 256\n",
        "\n",
        "\n",
        "test_ds = tf.data.Dataset.from_tensor_slices((test_data, test_labels)).batch(BATCH_SIZE).prefetch(tf.data.AUTOTUNE)\n",
        "val_ds = tf.data.Dataset.from_tensor_slices((train_data[:1000], train_labels[:1000])).batch(BATCH_SIZE).prefetch(tf.data.AUTOTUNE)\n",
        "train_ds = tf.data.Dataset.from_tensor_slices((train_data[1000:], train_labels[1000:])).batch(BATCH_SIZE).prefetch(tf.data.AUTOTUNE)"
      ]
    },
    {
      "cell_type": "markdown",
      "metadata": {
        "id": "Vd1qeunf82ek"
      },
      "source": [
        "# Let us try to improve on our model using TensorBoard and optimize the hyper-parameters.\n",
        "## This tutorial was adapted from these sources: https://www.tensorflow.org/tensorboard/get_started and https://towardsdatascience.com/tensorboard-hyperparameter-optimization-a51ef7af71f5"
      ]
    },
    {
      "cell_type": "code",
      "execution_count": 49,
      "metadata": {
        "id": "oaD17CCf4YV9"
      },
      "outputs": [],
      "source": [
        "# Import libaries needed for TensorBoard\n"
      ]
    },
    {
      "cell_type": "code",
      "execution_count": 50,
      "metadata": {
        "id": "KxKYxLbt4YWF"
      },
      "outputs": [],
      "source": [
        "# Clear old log files\n"
      ]
    },
    {
      "cell_type": "code",
      "execution_count": 51,
      "metadata": {
        "id": "CuNAdENI4YWP"
      },
      "outputs": [],
      "source": [
        "# Define the hyper-parameters to grid search\n",
        "\n",
        "# Write all the hyperpareters to file\n"
      ]
    },
    {
      "cell_type": "code",
      "execution_count": 52,
      "metadata": {
        "id": "NXAcduhG4YWV"
      },
      "outputs": [],
      "source": [
        "# Define the nerual net model.  Notice the hyperparameters added and the callbacks\n",
        "def model_builder(hp):\n",
        "    n_hidden = hp.Int('n_hidden', min_value=1, max_value=2)\n",
        "    n_units = hp.Int('n_units', min_value=256, max_value=1024, step=2, sampling='log')\n",
        "    learning_rate = hp.Float('learning_rate', min_value=1e-3, max_value=1e-2, sampling='log')\n",
        "    dropout = hp.Float('dropout', min_value=0.2, max_value=0.9)\n",
        "    optimizer = tf.keras.optimizers.Adam(learning_rate=learning_rate)\n",
        "    model = tf.keras.models.Sequential()\n",
        "    model.add(tf.keras.layers.Input(shape=(20000,)))\n",
        "    for _ in range(n_hidden):\n",
        "        model.add(tf.keras.layers.Dense(n_units, activation='relu', kernel_initializer='he_normal'))\n",
        "        model.add(tf.keras.layers.Dropout(dropout))\n",
        "    model.add(tf.keras.layers.Dense(46, activation='softmax'))\n",
        "    model.compile(optimizer=optimizer, loss='sparse_categorical_crossentropy', metrics=['accuracy'])\n",
        "    return model"
      ]
    },
    {
      "cell_type": "code",
      "execution_count": 53,
      "metadata": {
        "id": "hgTdpH8i4YWn"
      },
      "outputs": [
        {
          "name": "stdout",
          "output_type": "stream",
          "text": [
            "Reloading Tuner from ./reuters_TB/tuner0.json\n"
          ]
        }
      ],
      "source": [
        "# Create a function to save hyperparamters and accuray output to file\n",
        "log_dir = \"logs/fit/\" + time.strftime(\"%Y%m%d-%H%M%S\")\n",
        "\n",
        "tuner = kt.BayesianOptimization(model_builder, objective='val_accuracy', max_trials=20, project_name='reuters_TB')\n",
        "tuner.search(train_ds, validation_data=val_ds, epochs=100, callbacks=[tf.keras.callbacks.EarlyStopping('val_accuracy', patience=3, restore_best_weights=True), tf.keras.callbacks.TensorBoard(log_dir=log_dir, histogram_freq=1)])\n"
      ]
    },
    {
      "cell_type": "code",
      "execution_count": 54,
      "metadata": {},
      "outputs": [
        {
          "name": "stdout",
          "output_type": "stream",
          "text": [
            "Trial 01 summary\n",
            "Hyperparameters:\n",
            "n_hidden: 1\n",
            "n_units: 256\n",
            "learning_rate: 0.005957170974089395\n",
            "dropout: 0.2606644755079035\n",
            "Score: 0.8450000286102295\n"
          ]
        }
      ],
      "source": [
        "best_trial = tuner.oracle.get_best_trials()[0]\n",
        "best_trial.summary()"
      ]
    },
    {
      "cell_type": "code",
      "execution_count": 55,
      "metadata": {},
      "outputs": [
        {
          "data": {
            "text/plain": [
              "1"
            ]
          },
          "execution_count": 55,
          "metadata": {},
          "output_type": "execute_result"
        }
      ],
      "source": [
        "best_trial.best_step"
      ]
    },
    {
      "cell_type": "code",
      "execution_count": 56,
      "metadata": {},
      "outputs": [
        {
          "name": "stdout",
          "output_type": "stream",
          "text": [
            "\u001b[1m9/9\u001b[0m \u001b[32m━━━━━━━━━━━━━━━━━━━━\u001b[0m\u001b[37m\u001b[0m \u001b[1m1s\u001b[0m 39ms/step - accuracy: 0.8112 - loss: 0.9041\n",
            "Test Loss: 0.9328\n",
            "Test Accuracy: 0.8081\n"
          ]
        }
      ],
      "source": [
        "best_model = tuner.get_best_models()[0]\n",
        "loss, accuracy = best_model.evaluate(test_ds)\n",
        "print(f'Test Loss: {loss:.4f}')\n",
        "print(f'Test Accuracy: {accuracy:.4f}')"
      ]
    },
    {
      "cell_type": "code",
      "execution_count": 57,
      "metadata": {
        "id": "r7K00Wnh4YWs"
      },
      "outputs": [],
      "source": [
        "# Loop through hyperparameters and save outputs to file\n"
      ]
    },
    {
      "cell_type": "code",
      "execution_count": 61,
      "metadata": {
        "id": "E67FYpVq4YWz",
        "scrolled": true
      },
      "outputs": [
        {
          "name": "stdout",
          "output_type": "stream",
          "text": [
            "The tensorboard extension is already loaded. To reload it, use:\n",
            "  %reload_ext tensorboard\n"
          ]
        },
        {
          "data": {
            "text/plain": [
              "Reusing TensorBoard on port 6006 (pid 70271), started 0:00:48 ago. (Use '!kill 70271' to kill it.)"
            ]
          },
          "metadata": {},
          "output_type": "display_data"
        },
        {
          "data": {
            "text/html": [
              "\n",
              "      <iframe id=\"tensorboard-frame-83d6dc81c944b807\" width=\"100%\" height=\"800\" frameborder=\"0\">\n",
              "      </iframe>\n",
              "      <script>\n",
              "        (function() {\n",
              "          const frame = document.getElementById(\"tensorboard-frame-83d6dc81c944b807\");\n",
              "          const url = new URL(\"http://localhost\");\n",
              "          const port = 6006;\n",
              "          if (port) {\n",
              "            url.port = port;\n",
              "          }\n",
              "          frame.src = url;\n",
              "        })();\n",
              "      </script>\n",
              "    "
            ],
            "text/plain": [
              "<IPython.core.display.HTML object>"
            ]
          },
          "metadata": {},
          "output_type": "display_data"
        }
      ],
      "source": [
        "# Load tensorboard and view output.  \n",
        "%load_ext tensorboard\n",
        "%tensorboard --logdir logs/fit"
      ]
    },
    {
      "cell_type": "code",
      "execution_count": null,
      "metadata": {},
      "outputs": [],
      "source": []
    }
  ],
  "metadata": {
    "colab": {
      "include_colab_link": true,
      "provenance": []
    },
    "kernelspec": {
      "display_name": "tf-test",
      "language": "python",
      "name": "python3"
    },
    "language_info": {
      "codemirror_mode": {
        "name": "ipython",
        "version": 3
      },
      "file_extension": ".py",
      "mimetype": "text/x-python",
      "name": "python",
      "nbconvert_exporter": "python",
      "pygments_lexer": "ipython3",
      "version": "3.11.11"
    }
  },
  "nbformat": 4,
  "nbformat_minor": 0
}
