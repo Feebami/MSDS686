{
 "cells": [
  {
   "cell_type": "markdown",
   "metadata": {},
   "source": [
    "# Imports"
   ]
  },
  {
   "cell_type": "code",
   "execution_count": 114,
   "metadata": {},
   "outputs": [],
   "source": [
    "import torch\n",
    "import torch.nn as nn\n",
    "import torch.nn.functional as F\n",
    "from torchvision import datasets\n",
    "from torchvision.transforms import v2"
   ]
  },
  {
   "cell_type": "code",
   "execution_count": 115,
   "metadata": {},
   "outputs": [
    {
     "name": "stdout",
     "output_type": "stream",
     "text": [
      "CUDA Available: True\n"
     ]
    }
   ],
   "source": [
    "cuda_available = torch.cuda.is_available()\n",
    "print(f\"CUDA Available: {cuda_available}\")"
   ]
  },
  {
   "cell_type": "code",
   "execution_count": 116,
   "metadata": {},
   "outputs": [],
   "source": [
    "torch.set_float32_matmul_precision('high')"
   ]
  },
  {
   "cell_type": "markdown",
   "metadata": {},
   "source": [
    "# Hyperparameters\n"
   ]
  },
  {
   "cell_type": "code",
   "execution_count": 117,
   "metadata": {},
   "outputs": [],
   "source": [
    "batch_size = 2048\n",
    "epochs = 25\n",
    "learning_rate = 0.01\n",
    "layers = 4\n",
    "dropout = 0.4\n",
    "units = 512"
   ]
  },
  {
   "cell_type": "markdown",
   "metadata": {},
   "source": [
    "# Data loading"
   ]
  },
  {
   "cell_type": "code",
   "execution_count": 118,
   "metadata": {},
   "outputs": [
    {
     "data": {
      "text/plain": [
       "(Dataset MNIST\n",
       "     Number of datapoints: 60000\n",
       "     Root location: ./data\n",
       "     Split: Train\n",
       "     StandardTransform\n",
       " Transform: Compose(\n",
       "                  ToImage()\n",
       "                  ToDtype(scale=True)\n",
       "            ),\n",
       " Dataset MNIST\n",
       "     Number of datapoints: 10000\n",
       "     Root location: ./data\n",
       "     Split: Test\n",
       "     StandardTransform\n",
       " Transform: Compose(\n",
       "                  ToImage()\n",
       "                  ToDtype(scale=True)\n",
       "            ))"
      ]
     },
     "execution_count": 118,
     "metadata": {},
     "output_type": "execute_result"
    }
   ],
   "source": [
    "transform = v2.Compose([\n",
    "    v2.ToImage(),\n",
    "    v2.ToDtype(torch.float32, scale=True)\n",
    "])\n",
    "\n",
    "# Load the training and test datasets\n",
    "trainset = datasets.MNIST(root='./data', train=True, transform=transform)\n",
    "testset = datasets.MNIST(root='./data', train=False, transform=transform)\n",
    "trainset, testset"
   ]
  },
  {
   "cell_type": "code",
   "execution_count": 119,
   "metadata": {},
   "outputs": [],
   "source": [
    "# Split trainset into train and validation\n",
    "trainset, valset = torch.utils.data.random_split(trainset, [50000, 10000])\n",
    "# Create data loaders\n",
    "trainloader = torch.utils.data.DataLoader(\n",
    "    trainset, \n",
    "    batch_size=batch_size, \n",
    "    pin_memory=True,\n",
    "    num_workers=4,\n",
    "    shuffle=True)\n",
    "valloader = torch.utils.data.DataLoader(\n",
    "    valset, \n",
    "    batch_size=batch_size, \n",
    "    pin_memory=True,\n",
    "    num_workers=4,\n",
    "    shuffle=False)\n",
    "testloader = torch.utils.data.DataLoader(testset, batch_size=batch_size, shuffle=False)"
   ]
  },
  {
   "cell_type": "markdown",
   "metadata": {},
   "source": [
    "# Model definition"
   ]
  },
  {
   "cell_type": "code",
   "execution_count": 120,
   "metadata": {},
   "outputs": [],
   "source": [
    "def model_builder(layers=3, units=512, dropout=0.3):\n",
    "    model = nn.Sequential()\n",
    "    model.add_module(\"flatten\", nn.Flatten())\n",
    "    model.add_module(\"input\", nn.Linear(28*28, units))\n",
    "    model.add_module(\"relu_input\", nn.ReLU())\n",
    "    model.add_module(\"dropout_input\", nn.Dropout(dropout))\n",
    "    for i in range(layers-1):\n",
    "        model.add_module(f\"linear_{i}\", nn.Linear(units, units))\n",
    "        model.add_module(f\"relu_{i}\", nn.ReLU())\n",
    "        model.add_module(f\"dropout_{i}\", nn.Dropout(dropout))\n",
    "    model.add_module(\"output\", nn.Linear(units, 10))\n",
    "    return model"
   ]
  },
  {
   "cell_type": "code",
   "execution_count": 121,
   "metadata": {},
   "outputs": [],
   "source": [
    "def init_weights(m):\n",
    "    if isinstance(m, nn.Linear):\n",
    "        nn.init.kaiming_normal_(m.weight, nonlinearity='relu')\n",
    "        nn.init.normal_(m.bias, 0, 0.001)\n",
    "\n"
   ]
  },
  {
   "cell_type": "code",
   "execution_count": 122,
   "metadata": {},
   "outputs": [
    {
     "name": "stdout",
     "output_type": "stream",
     "text": [
      "Sequential(\n",
      "  (flatten): Flatten(start_dim=1, end_dim=-1)\n",
      "  (input): Linear(in_features=784, out_features=512, bias=True)\n",
      "  (relu_input): ReLU()\n",
      "  (dropout_input): Dropout(p=0.4, inplace=False)\n",
      "  (linear_0): Linear(in_features=512, out_features=512, bias=True)\n",
      "  (relu_0): ReLU()\n",
      "  (dropout_0): Dropout(p=0.4, inplace=False)\n",
      "  (linear_1): Linear(in_features=512, out_features=512, bias=True)\n",
      "  (relu_1): ReLU()\n",
      "  (dropout_1): Dropout(p=0.4, inplace=False)\n",
      "  (linear_2): Linear(in_features=512, out_features=512, bias=True)\n",
      "  (relu_2): ReLU()\n",
      "  (dropout_2): Dropout(p=0.4, inplace=False)\n",
      "  (output): Linear(in_features=512, out_features=10, bias=True)\n",
      ")\n"
     ]
    }
   ],
   "source": [
    "model = model_builder(layers, units, dropout)\n",
    "if cuda_available:\n",
    "    model.to(\"cuda\")\n",
    "\n",
    "model.apply(init_weights)\n",
    "print(model)"
   ]
  },
  {
   "cell_type": "markdown",
   "metadata": {},
   "source": [
    "# Train"
   ]
  },
  {
   "cell_type": "code",
   "execution_count": 123,
   "metadata": {},
   "outputs": [],
   "source": [
    "def test(model, test):\n",
    "    model.eval()\n",
    "    correct = 0\n",
    "    total = 0\n",
    "    with torch.no_grad():\n",
    "        for x, y in test:\n",
    "            if cuda_available:\n",
    "                x, y = x.cuda(), y.cuda()\n",
    "            y_hat = model(x)\n",
    "            _, predicted = torch.max(y_hat.data, 1)\n",
    "            total += y.size(0)\n",
    "            correct += (predicted == y).sum().item()\n",
    "    return correct / total"
   ]
  },
  {
   "cell_type": "code",
   "execution_count": 124,
   "metadata": {},
   "outputs": [],
   "source": [
    "loss_fn = nn.CrossEntropyLoss()\n",
    "optimizer = torch.optim.Adam(model.parameters(), lr=learning_rate)\n",
    "accuracies = []\n",
    "\n",
    "def train(model, trainloader, valloader, epochs, loss_fn, optimizer):\n",
    "    for epoch in range(epochs):\n",
    "        model.train()\n",
    "        for x, y in trainloader:\n",
    "            if cuda_available:\n",
    "                x, y = x.cuda(), y.cuda()\n",
    "            optimizer.zero_grad()\n",
    "            y_pred = model(x)\n",
    "            loss = loss_fn(y_pred, y)\n",
    "            loss.backward()\n",
    "            optimizer.step()\n",
    "        accuracy = test(model, valloader)\n",
    "        accuracies.append(accuracy)\n",
    "        print(f\"Epoch {epoch+1:>2}/{epochs}, Loss: {loss.item():.4f}, Accuracy: {accuracy}\")"
   ]
  },
  {
   "cell_type": "code",
   "execution_count": 125,
   "metadata": {},
   "outputs": [
    {
     "name": "stdout",
     "output_type": "stream",
     "text": [
      "Epoch  1/25, Loss: 0.6455, Accuracy: 0.8457\n",
      "Epoch  2/25, Loss: 0.4501, Accuracy: 0.9335\n",
      "Epoch  3/25, Loss: 0.3065, Accuracy: 0.9451\n",
      "Epoch  4/25, Loss: 0.3371, Accuracy: 0.9508\n",
      "Epoch  5/25, Loss: 0.2253, Accuracy: 0.9554\n",
      "Epoch  6/25, Loss: 0.2313, Accuracy: 0.9599\n",
      "Epoch  7/25, Loss: 0.2150, Accuracy: 0.9567\n",
      "Epoch  8/25, Loss: 0.1788, Accuracy: 0.9617\n",
      "Epoch  9/25, Loss: 0.1693, Accuracy: 0.9637\n",
      "Epoch 10/25, Loss: 0.2417, Accuracy: 0.9625\n",
      "Epoch 11/25, Loss: 0.1793, Accuracy: 0.9649\n",
      "Epoch 12/25, Loss: 0.1653, Accuracy: 0.9644\n",
      "Epoch 13/25, Loss: 0.1864, Accuracy: 0.9654\n",
      "Epoch 14/25, Loss: 0.1492, Accuracy: 0.9668\n",
      "Epoch 15/25, Loss: 0.1253, Accuracy: 0.9671\n",
      "Epoch 16/25, Loss: 0.1479, Accuracy: 0.9688\n",
      "Epoch 17/25, Loss: 0.1423, Accuracy: 0.9675\n",
      "Epoch 18/25, Loss: 0.1919, Accuracy: 0.97\n",
      "Epoch 19/25, Loss: 0.1247, Accuracy: 0.9672\n",
      "Epoch 20/25, Loss: 0.1600, Accuracy: 0.9662\n",
      "Epoch 21/25, Loss: 0.1622, Accuracy: 0.9696\n",
      "Epoch 22/25, Loss: 0.1584, Accuracy: 0.9678\n",
      "Epoch 23/25, Loss: 0.1504, Accuracy: 0.9696\n",
      "Epoch 24/25, Loss: 0.1594, Accuracy: 0.9701\n",
      "Epoch 25/25, Loss: 0.1159, Accuracy: 0.9678\n"
     ]
    }
   ],
   "source": [
    "train(model, trainloader, valloader, epochs, loss_fn, optimizer)"
   ]
  },
  {
   "cell_type": "code",
   "execution_count": 126,
   "metadata": {},
   "outputs": [
    {
     "name": "stdout",
     "output_type": "stream",
     "text": [
      "Test accuracy: 0.9716\n"
     ]
    }
   ],
   "source": [
    "test_accuracy = test(model, testloader)\n",
    "print(f\"Test accuracy: {test_accuracy}\")"
   ]
  },
  {
   "cell_type": "code",
   "execution_count": null,
   "metadata": {},
   "outputs": [],
   "source": []
  }
 ],
 "metadata": {
  "kernelspec": {
   "display_name": "pyto",
   "language": "python",
   "name": "python3"
  },
  "language_info": {
   "codemirror_mode": {
    "name": "ipython",
    "version": 3
   },
   "file_extension": ".py",
   "mimetype": "text/x-python",
   "name": "python",
   "nbconvert_exporter": "python",
   "pygments_lexer": "ipython3",
   "version": "3.11.11"
  }
 },
 "nbformat": 4,
 "nbformat_minor": 2
}
